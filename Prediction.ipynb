{
 "cells": [
  {
   "cell_type": "code",
   "execution_count": 3,
   "id": "9fee1f1b",
   "metadata": {},
   "outputs": [
    {
     "data": {
      "text/plain": [
       "(12086, 21)"
      ]
     },
     "execution_count": 3,
     "metadata": {},
     "output_type": "execute_result"
    }
   ],
   "source": [
    "import pandas as pd\n",
    "df=pd.read_csv('test.csv')\n",
    "df.shape"
   ]
  },
  {
   "cell_type": "code",
   "execution_count": 8,
   "id": "0dc7766c",
   "metadata": {},
   "outputs": [],
   "source": [
    "new_dict=df.isnull().sum()"
   ]
  },
  {
   "cell_type": "code",
   "execution_count": 9,
   "id": "3a209be1",
   "metadata": {},
   "outputs": [
    {
     "data": {
      "text/plain": [
       "tracking_id                         0\n",
       "datetime                            0\n",
       "wind_speed(m/s)                   126\n",
       "atmospheric_temperature(°C)      1427\n",
       "shaft_temperature(°C)               1\n",
       "blades_angle(°)                   106\n",
       "gearbox_temperature(°C)             1\n",
       "engine_temperature(°C)              5\n",
       "motor_torque(N-m)                  11\n",
       "generator_temperature(°C)           5\n",
       "atmospheric_pressure(Pascal)     1151\n",
       "area_temperature(°C)                1\n",
       "windmill_body_temperature(°C)     926\n",
       "wind_direction(°)                2160\n",
       "resistance(ohm)                     0\n",
       "rotor_torque(N-m)                 281\n",
       "turbine_status                    797\n",
       "cloud_level                       125\n",
       "blade_length(m)                  2114\n",
       "blade_breadth(m)                    0\n",
       "windmill_height(m)                255\n",
       "dtype: int64"
      ]
     },
     "execution_count": 9,
     "metadata": {},
     "output_type": "execute_result"
    }
   ],
   "source": [
    "new_dict"
   ]
  },
  {
   "cell_type": "code",
   "execution_count": 10,
   "id": "76e16fcc",
   "metadata": {},
   "outputs": [],
   "source": [
    "df1=df"
   ]
  },
  {
   "cell_type": "code",
   "execution_count": 7,
   "id": "f09828fa",
   "metadata": {},
   "outputs": [],
   "source": [
    "import numpy as np"
   ]
  },
  {
   "cell_type": "code",
   "execution_count": 12,
   "id": "0cf723f6",
   "metadata": {},
   "outputs": [],
   "source": [
    "for column_name,na in new_dict.items():\n",
    "    if na!=0 and column_name not in ['turbine_status','cloud_level']:\n",
    "        df1[column_name]=df1[column_name].fillna(np.mean(df1[column_name]))\n",
    "        "
   ]
  },
  {
   "cell_type": "code",
   "execution_count": 13,
   "id": "9da34c21",
   "metadata": {},
   "outputs": [
    {
     "data": {
      "text/plain": [
       "tracking_id                        0\n",
       "datetime                           0\n",
       "wind_speed(m/s)                    0\n",
       "atmospheric_temperature(°C)        0\n",
       "shaft_temperature(°C)              0\n",
       "blades_angle(°)                    0\n",
       "gearbox_temperature(°C)            0\n",
       "engine_temperature(°C)             0\n",
       "motor_torque(N-m)                  0\n",
       "generator_temperature(°C)          0\n",
       "atmospheric_pressure(Pascal)       0\n",
       "area_temperature(°C)               0\n",
       "windmill_body_temperature(°C)      0\n",
       "wind_direction(°)                  0\n",
       "resistance(ohm)                    0\n",
       "rotor_torque(N-m)                  0\n",
       "turbine_status                   797\n",
       "cloud_level                      125\n",
       "blade_length(m)                    0\n",
       "blade_breadth(m)                   0\n",
       "windmill_height(m)                 0\n",
       "dtype: int64"
      ]
     },
     "execution_count": 13,
     "metadata": {},
     "output_type": "execute_result"
    }
   ],
   "source": [
    "df1.isnull().sum()"
   ]
  },
  {
   "cell_type": "code",
   "execution_count": 14,
   "id": "b72f7be0",
   "metadata": {},
   "outputs": [
    {
     "data": {
      "text/plain": [
       "array(['Medium', 'Low', nan, 'Extremely Low'], dtype=object)"
      ]
     },
     "execution_count": 14,
     "metadata": {},
     "output_type": "execute_result"
    }
   ],
   "source": [
    "df1.cloud_level.unique()"
   ]
  },
  {
   "cell_type": "code",
   "execution_count": 15,
   "id": "650403d7",
   "metadata": {},
   "outputs": [],
   "source": [
    "mapping={\n",
    "    'Medium':3,\n",
    "    'Low':2,\n",
    "    'Extremely Low':1,\n",
    "    'nan':2\n",
    "}\n",
    "df2=df1\n",
    "df2.cloud_level=df2.cloud_level.map(mapping)"
   ]
  },
  {
   "cell_type": "code",
   "execution_count": 16,
   "id": "1bfe4de3",
   "metadata": {},
   "outputs": [
    {
     "data": {
      "text/plain": [
       "tracking_id                        0\n",
       "datetime                           0\n",
       "wind_speed(m/s)                    0\n",
       "atmospheric_temperature(°C)        0\n",
       "shaft_temperature(°C)              0\n",
       "blades_angle(°)                    0\n",
       "gearbox_temperature(°C)            0\n",
       "engine_temperature(°C)             0\n",
       "motor_torque(N-m)                  0\n",
       "generator_temperature(°C)          0\n",
       "atmospheric_pressure(Pascal)       0\n",
       "area_temperature(°C)               0\n",
       "windmill_body_temperature(°C)      0\n",
       "wind_direction(°)                  0\n",
       "resistance(ohm)                    0\n",
       "rotor_torque(N-m)                  0\n",
       "turbine_status                   797\n",
       "cloud_level                      125\n",
       "blade_length(m)                    0\n",
       "blade_breadth(m)                   0\n",
       "windmill_height(m)                 0\n",
       "dtype: int64"
      ]
     },
     "execution_count": 16,
     "metadata": {},
     "output_type": "execute_result"
    }
   ],
   "source": [
    "df2.isnull().sum()"
   ]
  },
  {
   "cell_type": "code",
   "execution_count": 17,
   "id": "a9ab1521",
   "metadata": {},
   "outputs": [],
   "source": [
    "from sklearn.preprocessing import LabelEncoder\n",
    "l=LabelEncoder()\n",
    "df2['Label_turbine_status']=l.fit_transform(df2['turbine_status'])"
   ]
  },
  {
   "cell_type": "code",
   "execution_count": 18,
   "id": "172e2c93",
   "metadata": {},
   "outputs": [
    {
     "data": {
      "text/plain": [
       "tracking_id                        0\n",
       "datetime                           0\n",
       "wind_speed(m/s)                    0\n",
       "atmospheric_temperature(°C)        0\n",
       "shaft_temperature(°C)              0\n",
       "blades_angle(°)                    0\n",
       "gearbox_temperature(°C)            0\n",
       "engine_temperature(°C)             0\n",
       "motor_torque(N-m)                  0\n",
       "generator_temperature(°C)          0\n",
       "atmospheric_pressure(Pascal)       0\n",
       "area_temperature(°C)               0\n",
       "windmill_body_temperature(°C)      0\n",
       "wind_direction(°)                  0\n",
       "resistance(ohm)                    0\n",
       "rotor_torque(N-m)                  0\n",
       "turbine_status                   797\n",
       "cloud_level                      125\n",
       "blade_length(m)                    0\n",
       "blade_breadth(m)                   0\n",
       "windmill_height(m)                 0\n",
       "Label_turbine_status               0\n",
       "dtype: int64"
      ]
     },
     "execution_count": 18,
     "metadata": {},
     "output_type": "execute_result"
    }
   ],
   "source": [
    "df2.isnull().sum()"
   ]
  },
  {
   "cell_type": "code",
   "execution_count": 19,
   "id": "270cbfdd",
   "metadata": {},
   "outputs": [],
   "source": [
    "df2['cloud_level']=df2['cloud_level'].fillna(np.mean(df2['cloud_level']))"
   ]
  },
  {
   "cell_type": "code",
   "execution_count": 23,
   "id": "cb485b0b",
   "metadata": {},
   "outputs": [],
   "source": [
    "import pickle\n",
    "f=open('model','rb')\n",
    "model=pickle.load(f)"
   ]
  },
  {
   "cell_type": "code",
   "execution_count": 24,
   "id": "90743afe",
   "metadata": {},
   "outputs": [],
   "source": [
    "df2.datetime=pd.to_datetime(df2.datetime)"
   ]
  },
  {
   "cell_type": "code",
   "execution_count": 25,
   "id": "03967e6c",
   "metadata": {},
   "outputs": [],
   "source": [
    "df2['Y']=df2.datetime.dt.year\n",
    "df2['M']=df2.datetime.dt.month\n",
    "df2['D']=df2.datetime.dt.day\n",
    "df2['H']=df2.datetime.dt.hour\n",
    "df2['Min']=df2.datetime.dt.minute\n",
    "df2['S']=df2.datetime.dt.second"
   ]
  },
  {
   "cell_type": "code",
   "execution_count": 26,
   "id": "2d08d279",
   "metadata": {},
   "outputs": [],
   "source": [
    "df3=df2.drop('Label_turbine_status',axis='columns')\n",
    "df4=df2['Label_turbine_status']"
   ]
  },
  {
   "cell_type": "code",
   "execution_count": 27,
   "id": "9a0d0e4a",
   "metadata": {},
   "outputs": [
    {
     "data": {
      "text/html": [
       "<div>\n",
       "<style scoped>\n",
       "    .dataframe tbody tr th:only-of-type {\n",
       "        vertical-align: middle;\n",
       "    }\n",
       "\n",
       "    .dataframe tbody tr th {\n",
       "        vertical-align: top;\n",
       "    }\n",
       "\n",
       "    .dataframe thead th {\n",
       "        text-align: right;\n",
       "    }\n",
       "</style>\n",
       "<table border=\"1\" class=\"dataframe\">\n",
       "  <thead>\n",
       "    <tr style=\"text-align: right;\">\n",
       "      <th></th>\n",
       "      <th>tracking_id</th>\n",
       "      <th>datetime</th>\n",
       "      <th>wind_speed(m/s)</th>\n",
       "      <th>atmospheric_temperature(°C)</th>\n",
       "      <th>shaft_temperature(°C)</th>\n",
       "      <th>blades_angle(°)</th>\n",
       "      <th>gearbox_temperature(°C)</th>\n",
       "      <th>engine_temperature(°C)</th>\n",
       "      <th>motor_torque(N-m)</th>\n",
       "      <th>generator_temperature(°C)</th>\n",
       "      <th>...</th>\n",
       "      <th>blade_length(m)</th>\n",
       "      <th>blade_breadth(m)</th>\n",
       "      <th>windmill_height(m)</th>\n",
       "      <th>Y</th>\n",
       "      <th>M</th>\n",
       "      <th>D</th>\n",
       "      <th>H</th>\n",
       "      <th>Min</th>\n",
       "      <th>S</th>\n",
       "      <th>Label_turbine_status</th>\n",
       "    </tr>\n",
       "  </thead>\n",
       "  <tbody>\n",
       "    <tr>\n",
       "      <th>0</th>\n",
       "      <td>WM_19817</td>\n",
       "      <td>2019-04-17 08:53:20</td>\n",
       "      <td>94.324266</td>\n",
       "      <td>17.641186</td>\n",
       "      <td>89.714193</td>\n",
       "      <td>51.146788</td>\n",
       "      <td>40.460560</td>\n",
       "      <td>39.594734</td>\n",
       "      <td>1073.202715</td>\n",
       "      <td>66.830037</td>\n",
       "      <td>...</td>\n",
       "      <td>3.185837</td>\n",
       "      <td>0.403965</td>\n",
       "      <td>25.572431</td>\n",
       "      <td>2019</td>\n",
       "      <td>4</td>\n",
       "      <td>17</td>\n",
       "      <td>8</td>\n",
       "      <td>53</td>\n",
       "      <td>20</td>\n",
       "      <td>8</td>\n",
       "    </tr>\n",
       "    <tr>\n",
       "      <th>1</th>\n",
       "      <td>WM_18723</td>\n",
       "      <td>2019-03-30 07:43:20</td>\n",
       "      <td>10.088870</td>\n",
       "      <td>13.978119</td>\n",
       "      <td>43.272846</td>\n",
       "      <td>46.516394</td>\n",
       "      <td>40.027788</td>\n",
       "      <td>41.176860</td>\n",
       "      <td>517.436430</td>\n",
       "      <td>37.284163</td>\n",
       "      <td>...</td>\n",
       "      <td>3.016603</td>\n",
       "      <td>0.444755</td>\n",
       "      <td>24.371823</td>\n",
       "      <td>2019</td>\n",
       "      <td>3</td>\n",
       "      <td>30</td>\n",
       "      <td>7</td>\n",
       "      <td>43</td>\n",
       "      <td>20</td>\n",
       "      <td>0</td>\n",
       "    </tr>\n",
       "    <tr>\n",
       "      <th>2</th>\n",
       "      <td>WM_34552</td>\n",
       "      <td>2019-08-10 11:33:20</td>\n",
       "      <td>347.152090</td>\n",
       "      <td>31.423035</td>\n",
       "      <td>41.076640</td>\n",
       "      <td>26.931602</td>\n",
       "      <td>43.109122</td>\n",
       "      <td>43.439556</td>\n",
       "      <td>1480.716492</td>\n",
       "      <td>70.010762</td>\n",
       "      <td>...</td>\n",
       "      <td>2.611941</td>\n",
       "      <td>0.387368</td>\n",
       "      <td>27.654677</td>\n",
       "      <td>2019</td>\n",
       "      <td>8</td>\n",
       "      <td>10</td>\n",
       "      <td>11</td>\n",
       "      <td>33</td>\n",
       "      <td>20</td>\n",
       "      <td>7</td>\n",
       "    </tr>\n",
       "    <tr>\n",
       "      <th>3</th>\n",
       "      <td>WM_28570</td>\n",
       "      <td>2019-06-26 03:53:20</td>\n",
       "      <td>24.471997</td>\n",
       "      <td>-99.000000</td>\n",
       "      <td>14.375078</td>\n",
       "      <td>66.513953</td>\n",
       "      <td>13.741253</td>\n",
       "      <td>15.577472</td>\n",
       "      <td>887.979475</td>\n",
       "      <td>41.445258</td>\n",
       "      <td>...</td>\n",
       "      <td>2.866805</td>\n",
       "      <td>0.450478</td>\n",
       "      <td>24.189426</td>\n",
       "      <td>2019</td>\n",
       "      <td>6</td>\n",
       "      <td>26</td>\n",
       "      <td>3</td>\n",
       "      <td>53</td>\n",
       "      <td>20</td>\n",
       "      <td>10</td>\n",
       "    </tr>\n",
       "    <tr>\n",
       "      <th>4</th>\n",
       "      <td>WM_36934</td>\n",
       "      <td>2019-08-27 16:43:20</td>\n",
       "      <td>96.997026</td>\n",
       "      <td>33.281836</td>\n",
       "      <td>41.405192</td>\n",
       "      <td>1.843112</td>\n",
       "      <td>121.572907</td>\n",
       "      <td>43.934587</td>\n",
       "      <td>2053.916354</td>\n",
       "      <td>68.007787</td>\n",
       "      <td>...</td>\n",
       "      <td>3.549672</td>\n",
       "      <td>0.368355</td>\n",
       "      <td>4.885440</td>\n",
       "      <td>2019</td>\n",
       "      <td>8</td>\n",
       "      <td>27</td>\n",
       "      <td>16</td>\n",
       "      <td>43</td>\n",
       "      <td>20</td>\n",
       "      <td>0</td>\n",
       "    </tr>\n",
       "  </tbody>\n",
       "</table>\n",
       "<p>5 rows × 28 columns</p>\n",
       "</div>"
      ],
      "text/plain": [
       "  tracking_id            datetime  wind_speed(m/s)  \\\n",
       "0    WM_19817 2019-04-17 08:53:20        94.324266   \n",
       "1    WM_18723 2019-03-30 07:43:20        10.088870   \n",
       "2    WM_34552 2019-08-10 11:33:20       347.152090   \n",
       "3    WM_28570 2019-06-26 03:53:20        24.471997   \n",
       "4    WM_36934 2019-08-27 16:43:20        96.997026   \n",
       "\n",
       "   atmospheric_temperature(°C)  shaft_temperature(°C)  blades_angle(°)  \\\n",
       "0                    17.641186              89.714193        51.146788   \n",
       "1                    13.978119              43.272846        46.516394   \n",
       "2                    31.423035              41.076640        26.931602   \n",
       "3                   -99.000000              14.375078        66.513953   \n",
       "4                    33.281836              41.405192         1.843112   \n",
       "\n",
       "   gearbox_temperature(°C)  engine_temperature(°C)  motor_torque(N-m)  \\\n",
       "0                40.460560               39.594734        1073.202715   \n",
       "1                40.027788               41.176860         517.436430   \n",
       "2                43.109122               43.439556        1480.716492   \n",
       "3                13.741253               15.577472         887.979475   \n",
       "4               121.572907               43.934587        2053.916354   \n",
       "\n",
       "   generator_temperature(°C)  ...  blade_length(m)  blade_breadth(m)  \\\n",
       "0                  66.830037  ...         3.185837          0.403965   \n",
       "1                  37.284163  ...         3.016603          0.444755   \n",
       "2                  70.010762  ...         2.611941          0.387368   \n",
       "3                  41.445258  ...         2.866805          0.450478   \n",
       "4                  68.007787  ...         3.549672          0.368355   \n",
       "\n",
       "   windmill_height(m)     Y  M   D   H  Min   S  Label_turbine_status  \n",
       "0           25.572431  2019  4  17   8   53  20                     8  \n",
       "1           24.371823  2019  3  30   7   43  20                     0  \n",
       "2           27.654677  2019  8  10  11   33  20                     7  \n",
       "3           24.189426  2019  6  26   3   53  20                    10  \n",
       "4            4.885440  2019  8  27  16   43  20                     0  \n",
       "\n",
       "[5 rows x 28 columns]"
      ]
     },
     "execution_count": 27,
     "metadata": {},
     "output_type": "execute_result"
    }
   ],
   "source": [
    "final=pd.concat([df3,df4],axis='columns')\n",
    "final.head()"
   ]
  },
  {
   "cell_type": "code",
   "execution_count": 29,
   "id": "f64fdbc5",
   "metadata": {},
   "outputs": [],
   "source": [
    "final.tracking_id=final.tracking_id.apply(lambda x:x[3:])"
   ]
  },
  {
   "cell_type": "code",
   "execution_count": 30,
   "id": "c35d4de0",
   "metadata": {},
   "outputs": [
    {
     "data": {
      "text/html": [
       "<div>\n",
       "<style scoped>\n",
       "    .dataframe tbody tr th:only-of-type {\n",
       "        vertical-align: middle;\n",
       "    }\n",
       "\n",
       "    .dataframe tbody tr th {\n",
       "        vertical-align: top;\n",
       "    }\n",
       "\n",
       "    .dataframe thead th {\n",
       "        text-align: right;\n",
       "    }\n",
       "</style>\n",
       "<table border=\"1\" class=\"dataframe\">\n",
       "  <thead>\n",
       "    <tr style=\"text-align: right;\">\n",
       "      <th></th>\n",
       "      <th>tracking_id</th>\n",
       "      <th>datetime</th>\n",
       "      <th>wind_speed(m/s)</th>\n",
       "      <th>atmospheric_temperature(°C)</th>\n",
       "      <th>shaft_temperature(°C)</th>\n",
       "      <th>blades_angle(°)</th>\n",
       "      <th>gearbox_temperature(°C)</th>\n",
       "      <th>engine_temperature(°C)</th>\n",
       "      <th>motor_torque(N-m)</th>\n",
       "      <th>generator_temperature(°C)</th>\n",
       "      <th>...</th>\n",
       "      <th>blade_length(m)</th>\n",
       "      <th>blade_breadth(m)</th>\n",
       "      <th>windmill_height(m)</th>\n",
       "      <th>Y</th>\n",
       "      <th>M</th>\n",
       "      <th>D</th>\n",
       "      <th>H</th>\n",
       "      <th>Min</th>\n",
       "      <th>S</th>\n",
       "      <th>Label_turbine_status</th>\n",
       "    </tr>\n",
       "  </thead>\n",
       "  <tbody>\n",
       "    <tr>\n",
       "      <th>0</th>\n",
       "      <td>19817</td>\n",
       "      <td>2019-04-17 08:53:20</td>\n",
       "      <td>94.324266</td>\n",
       "      <td>17.641186</td>\n",
       "      <td>89.714193</td>\n",
       "      <td>51.146788</td>\n",
       "      <td>40.460560</td>\n",
       "      <td>39.594734</td>\n",
       "      <td>1073.202715</td>\n",
       "      <td>66.830037</td>\n",
       "      <td>...</td>\n",
       "      <td>3.185837</td>\n",
       "      <td>0.403965</td>\n",
       "      <td>25.572431</td>\n",
       "      <td>2019</td>\n",
       "      <td>4</td>\n",
       "      <td>17</td>\n",
       "      <td>8</td>\n",
       "      <td>53</td>\n",
       "      <td>20</td>\n",
       "      <td>8</td>\n",
       "    </tr>\n",
       "    <tr>\n",
       "      <th>1</th>\n",
       "      <td>18723</td>\n",
       "      <td>2019-03-30 07:43:20</td>\n",
       "      <td>10.088870</td>\n",
       "      <td>13.978119</td>\n",
       "      <td>43.272846</td>\n",
       "      <td>46.516394</td>\n",
       "      <td>40.027788</td>\n",
       "      <td>41.176860</td>\n",
       "      <td>517.436430</td>\n",
       "      <td>37.284163</td>\n",
       "      <td>...</td>\n",
       "      <td>3.016603</td>\n",
       "      <td>0.444755</td>\n",
       "      <td>24.371823</td>\n",
       "      <td>2019</td>\n",
       "      <td>3</td>\n",
       "      <td>30</td>\n",
       "      <td>7</td>\n",
       "      <td>43</td>\n",
       "      <td>20</td>\n",
       "      <td>0</td>\n",
       "    </tr>\n",
       "    <tr>\n",
       "      <th>2</th>\n",
       "      <td>34552</td>\n",
       "      <td>2019-08-10 11:33:20</td>\n",
       "      <td>347.152090</td>\n",
       "      <td>31.423035</td>\n",
       "      <td>41.076640</td>\n",
       "      <td>26.931602</td>\n",
       "      <td>43.109122</td>\n",
       "      <td>43.439556</td>\n",
       "      <td>1480.716492</td>\n",
       "      <td>70.010762</td>\n",
       "      <td>...</td>\n",
       "      <td>2.611941</td>\n",
       "      <td>0.387368</td>\n",
       "      <td>27.654677</td>\n",
       "      <td>2019</td>\n",
       "      <td>8</td>\n",
       "      <td>10</td>\n",
       "      <td>11</td>\n",
       "      <td>33</td>\n",
       "      <td>20</td>\n",
       "      <td>7</td>\n",
       "    </tr>\n",
       "    <tr>\n",
       "      <th>3</th>\n",
       "      <td>28570</td>\n",
       "      <td>2019-06-26 03:53:20</td>\n",
       "      <td>24.471997</td>\n",
       "      <td>-99.000000</td>\n",
       "      <td>14.375078</td>\n",
       "      <td>66.513953</td>\n",
       "      <td>13.741253</td>\n",
       "      <td>15.577472</td>\n",
       "      <td>887.979475</td>\n",
       "      <td>41.445258</td>\n",
       "      <td>...</td>\n",
       "      <td>2.866805</td>\n",
       "      <td>0.450478</td>\n",
       "      <td>24.189426</td>\n",
       "      <td>2019</td>\n",
       "      <td>6</td>\n",
       "      <td>26</td>\n",
       "      <td>3</td>\n",
       "      <td>53</td>\n",
       "      <td>20</td>\n",
       "      <td>10</td>\n",
       "    </tr>\n",
       "    <tr>\n",
       "      <th>4</th>\n",
       "      <td>36934</td>\n",
       "      <td>2019-08-27 16:43:20</td>\n",
       "      <td>96.997026</td>\n",
       "      <td>33.281836</td>\n",
       "      <td>41.405192</td>\n",
       "      <td>1.843112</td>\n",
       "      <td>121.572907</td>\n",
       "      <td>43.934587</td>\n",
       "      <td>2053.916354</td>\n",
       "      <td>68.007787</td>\n",
       "      <td>...</td>\n",
       "      <td>3.549672</td>\n",
       "      <td>0.368355</td>\n",
       "      <td>4.885440</td>\n",
       "      <td>2019</td>\n",
       "      <td>8</td>\n",
       "      <td>27</td>\n",
       "      <td>16</td>\n",
       "      <td>43</td>\n",
       "      <td>20</td>\n",
       "      <td>0</td>\n",
       "    </tr>\n",
       "  </tbody>\n",
       "</table>\n",
       "<p>5 rows × 28 columns</p>\n",
       "</div>"
      ],
      "text/plain": [
       "  tracking_id            datetime  wind_speed(m/s)  \\\n",
       "0       19817 2019-04-17 08:53:20        94.324266   \n",
       "1       18723 2019-03-30 07:43:20        10.088870   \n",
       "2       34552 2019-08-10 11:33:20       347.152090   \n",
       "3       28570 2019-06-26 03:53:20        24.471997   \n",
       "4       36934 2019-08-27 16:43:20        96.997026   \n",
       "\n",
       "   atmospheric_temperature(°C)  shaft_temperature(°C)  blades_angle(°)  \\\n",
       "0                    17.641186              89.714193        51.146788   \n",
       "1                    13.978119              43.272846        46.516394   \n",
       "2                    31.423035              41.076640        26.931602   \n",
       "3                   -99.000000              14.375078        66.513953   \n",
       "4                    33.281836              41.405192         1.843112   \n",
       "\n",
       "   gearbox_temperature(°C)  engine_temperature(°C)  motor_torque(N-m)  \\\n",
       "0                40.460560               39.594734        1073.202715   \n",
       "1                40.027788               41.176860         517.436430   \n",
       "2                43.109122               43.439556        1480.716492   \n",
       "3                13.741253               15.577472         887.979475   \n",
       "4               121.572907               43.934587        2053.916354   \n",
       "\n",
       "   generator_temperature(°C)  ...  blade_length(m)  blade_breadth(m)  \\\n",
       "0                  66.830037  ...         3.185837          0.403965   \n",
       "1                  37.284163  ...         3.016603          0.444755   \n",
       "2                  70.010762  ...         2.611941          0.387368   \n",
       "3                  41.445258  ...         2.866805          0.450478   \n",
       "4                  68.007787  ...         3.549672          0.368355   \n",
       "\n",
       "   windmill_height(m)     Y  M   D   H  Min   S  Label_turbine_status  \n",
       "0           25.572431  2019  4  17   8   53  20                     8  \n",
       "1           24.371823  2019  3  30   7   43  20                     0  \n",
       "2           27.654677  2019  8  10  11   33  20                     7  \n",
       "3           24.189426  2019  6  26   3   53  20                    10  \n",
       "4            4.885440  2019  8  27  16   43  20                     0  \n",
       "\n",
       "[5 rows x 28 columns]"
      ]
     },
     "execution_count": 30,
     "metadata": {},
     "output_type": "execute_result"
    }
   ],
   "source": [
    "final.head()"
   ]
  },
  {
   "cell_type": "code",
   "execution_count": 33,
   "id": "2f841690",
   "metadata": {},
   "outputs": [
    {
     "data": {
      "text/plain": [
       "Index(['tracking_id', 'wind_speed(m/s)', 'atmospheric_temperature(°C)',\n",
       "       'shaft_temperature(°C)', 'blades_angle(°)', 'gearbox_temperature(°C)',\n",
       "       'engine_temperature(°C)', 'motor_torque(N-m)',\n",
       "       'generator_temperature(°C)', 'atmospheric_pressure(Pascal)',\n",
       "       'area_temperature(°C)', 'windmill_body_temperature(°C)',\n",
       "       'wind_direction(°)', 'resistance(ohm)', 'rotor_torque(N-m)',\n",
       "       'cloud_level', 'blade_length(m)', 'blade_breadth(m)',\n",
       "       'windmill_height(m)', 'Y', 'M', 'D', 'H', 'Min', 'S',\n",
       "       'Label_turbine_status'],\n",
       "      dtype='object')"
      ]
     },
     "execution_count": 33,
     "metadata": {},
     "output_type": "execute_result"
    }
   ],
   "source": [
    "x=final.drop(['datetime','turbine_status'],axis='columns')\n",
    "x.columns"
   ]
  },
  {
   "cell_type": "code",
   "execution_count": 34,
   "id": "a2cb7cf6",
   "metadata": {},
   "outputs": [],
   "source": [
    "target=model.predict(x)"
   ]
  },
  {
   "cell_type": "code",
   "execution_count": 35,
   "id": "41a5253a",
   "metadata": {},
   "outputs": [
    {
     "data": {
      "text/plain": [
       "array([ 2.19396654,  2.14694488,  3.2159498 , ...,  4.93209424,\n",
       "        4.15341646, 10.3181843 ])"
      ]
     },
     "execution_count": 35,
     "metadata": {},
     "output_type": "execute_result"
    }
   ],
   "source": [
    "target"
   ]
  },
  {
   "cell_type": "code",
   "execution_count": 36,
   "id": "d3330f44",
   "metadata": {},
   "outputs": [],
   "source": [
    "final['windmill_generated_power(kW/h)']=target"
   ]
  },
  {
   "cell_type": "code",
   "execution_count": 37,
   "id": "1920d4bb",
   "metadata": {},
   "outputs": [
    {
     "data": {
      "text/html": [
       "<div>\n",
       "<style scoped>\n",
       "    .dataframe tbody tr th:only-of-type {\n",
       "        vertical-align: middle;\n",
       "    }\n",
       "\n",
       "    .dataframe tbody tr th {\n",
       "        vertical-align: top;\n",
       "    }\n",
       "\n",
       "    .dataframe thead th {\n",
       "        text-align: right;\n",
       "    }\n",
       "</style>\n",
       "<table border=\"1\" class=\"dataframe\">\n",
       "  <thead>\n",
       "    <tr style=\"text-align: right;\">\n",
       "      <th></th>\n",
       "      <th>tracking_id</th>\n",
       "      <th>datetime</th>\n",
       "    </tr>\n",
       "  </thead>\n",
       "  <tbody>\n",
       "    <tr>\n",
       "      <th>0</th>\n",
       "      <td>WM_19817</td>\n",
       "      <td>2019-04-17 08:53:20</td>\n",
       "    </tr>\n",
       "    <tr>\n",
       "      <th>1</th>\n",
       "      <td>WM_18723</td>\n",
       "      <td>2019-03-30 07:43:20</td>\n",
       "    </tr>\n",
       "    <tr>\n",
       "      <th>2</th>\n",
       "      <td>WM_34552</td>\n",
       "      <td>2019-08-10 11:33:20</td>\n",
       "    </tr>\n",
       "    <tr>\n",
       "      <th>3</th>\n",
       "      <td>WM_28570</td>\n",
       "      <td>2019-06-26 03:53:20</td>\n",
       "    </tr>\n",
       "    <tr>\n",
       "      <th>4</th>\n",
       "      <td>WM_36934</td>\n",
       "      <td>2019-08-27 16:43:20</td>\n",
       "    </tr>\n",
       "  </tbody>\n",
       "</table>\n",
       "</div>"
      ],
      "text/plain": [
       "  tracking_id            datetime\n",
       "0    WM_19817 2019-04-17 08:53:20\n",
       "1    WM_18723 2019-03-30 07:43:20\n",
       "2    WM_34552 2019-08-10 11:33:20\n",
       "3    WM_28570 2019-06-26 03:53:20\n",
       "4    WM_36934 2019-08-27 16:43:20"
      ]
     },
     "execution_count": 37,
     "metadata": {},
     "output_type": "execute_result"
    }
   ],
   "source": [
    "result=df[['tracking_id','datetime']]\n",
    "result.head()"
   ]
  },
  {
   "cell_type": "code",
   "execution_count": 38,
   "id": "c375aa48",
   "metadata": {},
   "outputs": [
    {
     "name": "stderr",
     "output_type": "stream",
     "text": [
      "<ipython-input-38-a2178bf858f0>:1: SettingWithCopyWarning: \n",
      "A value is trying to be set on a copy of a slice from a DataFrame.\n",
      "Try using .loc[row_indexer,col_indexer] = value instead\n",
      "\n",
      "See the caveats in the documentation: https://pandas.pydata.org/pandas-docs/stable/user_guide/indexing.html#returning-a-view-versus-a-copy\n",
      "  result['windmill_generated_power(kW/h)']=target\n"
     ]
    }
   ],
   "source": [
    "result['windmill_generated_power(kW/h)']=target"
   ]
  },
  {
   "cell_type": "code",
   "execution_count": 39,
   "id": "c90aed1d",
   "metadata": {},
   "outputs": [
    {
     "data": {
      "text/html": [
       "<div>\n",
       "<style scoped>\n",
       "    .dataframe tbody tr th:only-of-type {\n",
       "        vertical-align: middle;\n",
       "    }\n",
       "\n",
       "    .dataframe tbody tr th {\n",
       "        vertical-align: top;\n",
       "    }\n",
       "\n",
       "    .dataframe thead th {\n",
       "        text-align: right;\n",
       "    }\n",
       "</style>\n",
       "<table border=\"1\" class=\"dataframe\">\n",
       "  <thead>\n",
       "    <tr style=\"text-align: right;\">\n",
       "      <th></th>\n",
       "      <th>tracking_id</th>\n",
       "      <th>datetime</th>\n",
       "      <th>windmill_generated_power(kW/h)</th>\n",
       "    </tr>\n",
       "  </thead>\n",
       "  <tbody>\n",
       "    <tr>\n",
       "      <th>0</th>\n",
       "      <td>WM_19817</td>\n",
       "      <td>2019-04-17 08:53:20</td>\n",
       "      <td>2.193967</td>\n",
       "    </tr>\n",
       "    <tr>\n",
       "      <th>1</th>\n",
       "      <td>WM_18723</td>\n",
       "      <td>2019-03-30 07:43:20</td>\n",
       "      <td>2.146945</td>\n",
       "    </tr>\n",
       "    <tr>\n",
       "      <th>2</th>\n",
       "      <td>WM_34552</td>\n",
       "      <td>2019-08-10 11:33:20</td>\n",
       "      <td>3.215950</td>\n",
       "    </tr>\n",
       "    <tr>\n",
       "      <th>3</th>\n",
       "      <td>WM_28570</td>\n",
       "      <td>2019-06-26 03:53:20</td>\n",
       "      <td>5.287415</td>\n",
       "    </tr>\n",
       "    <tr>\n",
       "      <th>4</th>\n",
       "      <td>WM_36934</td>\n",
       "      <td>2019-08-27 16:43:20</td>\n",
       "      <td>3.584907</td>\n",
       "    </tr>\n",
       "  </tbody>\n",
       "</table>\n",
       "</div>"
      ],
      "text/plain": [
       "  tracking_id            datetime  windmill_generated_power(kW/h)\n",
       "0    WM_19817 2019-04-17 08:53:20                        2.193967\n",
       "1    WM_18723 2019-03-30 07:43:20                        2.146945\n",
       "2    WM_34552 2019-08-10 11:33:20                        3.215950\n",
       "3    WM_28570 2019-06-26 03:53:20                        5.287415\n",
       "4    WM_36934 2019-08-27 16:43:20                        3.584907"
      ]
     },
     "execution_count": 39,
     "metadata": {},
     "output_type": "execute_result"
    }
   ],
   "source": [
    "result.head()"
   ]
  },
  {
   "cell_type": "code",
   "execution_count": 40,
   "id": "4541ef80",
   "metadata": {},
   "outputs": [
    {
     "data": {
      "text/plain": [
       "(12086, 3)"
      ]
     },
     "execution_count": 40,
     "metadata": {},
     "output_type": "execute_result"
    }
   ],
   "source": [
    "result.shape"
   ]
  },
  {
   "cell_type": "code",
   "execution_count": 41,
   "id": "42b340b5",
   "metadata": {},
   "outputs": [],
   "source": [
    "result.to_csv(\"final_submission.csv\")"
   ]
  },
  {
   "cell_type": "code",
   "execution_count": null,
   "id": "f6028b94",
   "metadata": {},
   "outputs": [],
   "source": []
  }
 ],
 "metadata": {
  "kernelspec": {
   "display_name": "Python 3",
   "language": "python",
   "name": "python3"
  },
  "language_info": {
   "codemirror_mode": {
    "name": "ipython",
    "version": 3
   },
   "file_extension": ".py",
   "mimetype": "text/x-python",
   "name": "python",
   "nbconvert_exporter": "python",
   "pygments_lexer": "ipython3",
   "version": "3.8.5"
  }
 },
 "nbformat": 4,
 "nbformat_minor": 5
}
